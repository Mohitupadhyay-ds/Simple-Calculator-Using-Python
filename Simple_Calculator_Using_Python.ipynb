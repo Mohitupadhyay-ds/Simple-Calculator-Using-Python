{
  "nbformat": 4,
  "nbformat_minor": 0,
  "metadata": {
    "colab": {
      "provenance": []
    },
    "kernelspec": {
      "name": "python3",
      "display_name": "Python 3"
    },
    "language_info": {
      "name": "python"
    }
  },
  "cells": [
    {
      "cell_type": "markdown",
      "source": [
        "<center><img src = \"https://is1-ssl.mzstatic.com/image/thumb/Purple221/v4/c6/cc/16/c6cc1674-8a8e-e3e9-e3b7-6e5bf1ea8306/AppIcon-0-1x_U007epad-0-0-85-220-0.png/1024x1024bb.jpg\"></center"
      ],
      "metadata": {
        "id": "0u8DiMs4rCZR"
      }
    },
    {
      "cell_type": "markdown",
      "source": [
        "Simple Calculator using Python\n",
        "\n",
        "Available Operations\n",
        "Addition (1): Sum of multiple numbers.\n",
        "\n",
        "Subtraction (2): Difference between two numbers.\n",
        "\n",
        "Multiplication (3): Product of multiple numbers.\n",
        "\n",
        "Division (4): Quotient of two numbers.\n",
        "\n",
        "Average (5): Average of multiple numbers.\n",
        "\n"
      ],
      "metadata": {
        "id": "FEyZYp2Npy9G"
      }
    },
    {
      "cell_type": "code",
      "execution_count": 1,
      "metadata": {
        "colab": {
          "base_uri": "https://localhost:8080/"
        },
        "id": "uK8l4YBmpwYM",
        "outputId": "dbae1462-e3da-4b7e-9d1f-693f685cc685"
      },
      "outputs": [
        {
          "output_type": "stream",
          "name": "stdout",
          "text": [
            "Please select operation -\n",
            "1. Add\n",
            "2. Subtract\n",
            "3. Multiply\n",
            "4. Divide\n",
            "5. Average\n",
            "\n",
            "Select operations form 1, 2, 3, 4, 5 :1\n",
            "Enter first number: 23\n",
            "Enter second number: 34\n",
            "23 + 34 = 57\n"
          ]
        }
      ],
      "source": [
        "# Simple calculator using Python\n",
        "\n",
        "# Function to add two numbers\n",
        "def add(num1, num2):\n",
        "\treturn num1 + num2\n",
        "\n",
        "# Function to subtract two numbers\n",
        "def subtract(num1, num2):\n",
        "\treturn num1 - num2\n",
        "\n",
        "# Function to multiply two numbers\n",
        "def multiply(num1, num2):\n",
        "\treturn num1 * num2\n",
        "\n",
        "# Function to divide two numbers\n",
        "def divide(num1, num2):\n",
        "\tif num2 == 0:\n",
        "\t\treturn \"Cannot divide by zero\"\n",
        "\treturn num1 / num2\n",
        "\n",
        "# Function to find Average of two numbers\n",
        "def avg(num1, num2):\n",
        "\treturn (num1 + num2)/2\n",
        "\n",
        "print(\"Please select operation -\\n\" \\\n",
        "\t\t\"1. Add\\n\" \\\n",
        "\t\t\"2. Subtract\\n\" \\\n",
        "\t\t\"3. Multiply\\n\" \\\n",
        "\t\t\"4. Divide\\n\"  \\\n",
        "\t\t\"5. Average\\n\" )\n",
        "\n",
        "\n",
        "# Take input from the user\n",
        "select = int(input(\"Select operations form 1, 2, 3, 4, 5 :\"))\n",
        "\n",
        "number_1 = int(input(\"Enter first number: \"))\n",
        "number_2 = int(input(\"Enter second number: \"))\n",
        "\n",
        "if select == 1:\n",
        "\tprint(number_1, \"+\", number_2, \"=\",\n",
        "\t\t\t\t\tadd(number_1, number_2))\n",
        "\n",
        "elif select == 2:\n",
        "\tprint(number_1, \"-\", number_2, \"=\",\n",
        "\t\t\t\t\tsubtract(number_1, number_2))\n",
        "\n",
        "elif select == 3:\n",
        "\tprint(number_1, \"*\", number_2, \"=\",\n",
        "\t\t\t\t\tmultiply(number_1, number_2))\n",
        "\n",
        "elif select == 4:\n",
        "\tprint(number_1, \"/\", number_2, \"=\",\n",
        "\t\t\t\t\tdivide(number_1, number_2))\n",
        "\n",
        "elif select == 5:\n",
        "\tprint(number_1, \"+\", number_2, \"/2\", \"=\",\n",
        "\t\t\t\t\tavg(number_1, number_2))\n",
        "else:\n",
        "\tprint(\"Invalid input\")"
      ]
    }
  ]
}